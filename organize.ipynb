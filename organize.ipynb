{
 "cells": [
  {
   "cell_type": "code",
   "execution_count": 1,
   "metadata": {},
   "outputs": [],
   "source": [
    "import re\n",
    "my_filename = 'log.txt'\n",
    "\n",
    "# if __name__ == \"__main__\":\n",
    "with open(my_filename) as f:\n",
    "    lines = f.readlines()\n"
   ]
  },
  {
   "cell_type": "code",
   "execution_count": 5,
   "metadata": {},
   "outputs": [],
   "source": [
    "# '\\n'.join(lines)"
   ]
  },
  {
   "cell_type": "code",
   "execution_count": 22,
   "metadata": {},
   "outputs": [],
   "source": [
    "# print(f\"{lines=}\")\n",
    "\n",
    "# go through lines, identify commit message vs file\n",
    "commit_regex = r\"^\\w{10} \"\n",
    "# matches = commit_regex.findall('\\n'.join(lines))\n",
    "# matches = list(re.finditer(commit_regex, '\\n'.join(lines), re.MULTILINE))\n",
    "# print(len(matches))\n",
    "# matches\n",
    "\n",
    "\n",
    "# file_regex = re.compile('[a-z]+')\n",
    "# file_regex.findall('')\n"
   ]
  },
  {
   "cell_type": "code",
   "execution_count": 39,
   "metadata": {},
   "outputs": [],
   "source": [
    "# I want a list of tuples\n",
    "    # tuples will be (commit line, list of file paths)\n",
    "\n",
    "grouped_by_commit = []\n",
    "filenames = []\n",
    "\n",
    "for line in lines:\n",
    "    # remove newline at end of each line\n",
    "    line = line[:-1]\n",
    "    if re.findall(commit_regex, line):\n",
    "        # print(f\"commit line found: {line}\")\n",
    "        grouped_by_commit.append((line, []))\n",
    "    else:\n",
    "        if grouped_by_commit:\n",
    "            grouped_by_commit[-1][1].append(line)\n",
    "        filenames.append(line)\n",
    "\n",
    "filenames = set(filenames)\n",
    "# print(*grouped_by_commit, sep=\"\\n\")\n",
    "# print(filenames)"
   ]
  },
  {
   "cell_type": "code",
   "execution_count": 42,
   "metadata": {},
   "outputs": [],
   "source": [
    "grouped_by_filename = {}\n",
    "\n",
    "# for filename in filenames:\n",
    "#     if filename not in grouped_by_filename:\n",
    "#         grouped_by_filename[filename] = []\n",
    "\n",
    "for commit, files in grouped_by_commit:\n",
    "    for filename in files:\n",
    "        if filename not in grouped_by_filename:\n",
    "            grouped_by_filename[filename] = []\n",
    "        grouped_by_filename[filename].append(commit)\n",
    "\n",
    "# print(*grouped_by_filename.items(), sep=\"\\n\")"
   ]
  },
  {
   "cell_type": "code",
   "execution_count": 44,
   "metadata": {},
   "outputs": [
    {
     "name": "stdout",
     "output_type": "stream",
     "text": [
      "- client/packages/lightning/src/components/BreakdownTable/LazyBreakdownTable.tsx\n",
      "\t- b369cc7971 AMP-60498 chore: add includeFunctionCell as legacy code to keep, but it should be dead code\n",
      "\t- 0650e3985d AMP-60498 chore: change container padding and border\n",
      "\t- bd682d1c6c AMP-60498 fix: add default value for selection size before load\n",
      "\t- 779e307a2f AMP-60498 fix: fix shouldShowSeriesBadges and rendering badges for child rows in dropdown; also add addtional legacy checks for selection\n",
      "\t- 98a00f5cea AMP-60498 feat: use shouldShowSeriesBadges\n",
      "\t- ee4fa619b8 AMP-60498 feat: improve too many pinned column display edge case logic\n",
      "\t- 2db09e9f7d chore, doc: edit comments and console logs\n",
      "\t- aa3e04d39f AMP-60498 fix: column autosizing works and handle too many pinned columns edge case\n",
      "\t- 8f9fbf6259 AMP-60498 feat: add lazy loading\n",
      "- client/packages/cerulean/src/components/bases/FlexBase.types.ts\n",
      "\t- d583c99707 AMP-60498 doc: add comments to explain order of layout props passed as array\n",
      "\t- 4a2b26d14e AMP-60498 doc: remove comment\n",
      "\t- 0650e3985d AMP-60498 chore: change container padding and border\n",
      "- client/packages/lightning/src/components/BreakdownTable/BreakdownTableHeader/BreakdownTableHeader.tsx\n",
      "\t- 0650e3985d AMP-60498 chore: change container padding and border\n",
      "\t- 618243bacf AMP-60498 feat: allow for different maxselected amounts\n",
      "\t- ffa87c1095 AMP-60498 AMP-59119 feat: indicate max selected message in title\n",
      "\t- 1efb3a6d6c AMP-60498 AMP-59119 feat: for <=15 rows use autoHeight\n",
      "\t- 6b0b79841a AMP-60498 AMP-59119 feat: style header more\n",
      "- client/packages/lightning/src/components/BreakdownTable/LazyBreakdownTable.scss\n",
      "\t- 0650e3985d AMP-60498 chore: change container padding and border\n",
      "\t- 8f9fbf6259 AMP-60498 feat: add lazy loading\n",
      "- client/packages/lightning/src/components/BreakdownTable/SeriesCellRenderer/SeriesCellRenderer.tsx\n",
      "\t- 779e307a2f AMP-60498 fix: fix shouldShowSeriesBadges and rendering badges for child rows in dropdown; also add addtional legacy checks for selection\n",
      "\t- 98a00f5cea AMP-60498 feat: use shouldShowSeriesBadges\n",
      "\t- 36ee3b4070 AMP-60498 fix: handle data not loaded nullish check\n",
      "\t- 2153101f4a AMP-60498 feat: add text truncation to cells\n",
      "- client/packages/lightning/src/components/BreakdownTable/DefaultBreakdownColumnHeader/DefaultBreakdownColumnHeader.tsx\n",
      "\t- 47fb777259 AMP-60498 fix: fix missing semicolin in header\n",
      "\t- 22d34e8027 AMP-60498 feat: column resize works dynamically\n",
      "\t- d600474a6f AMP-60498 feat: use semantic color\n",
      "\t- 0ec84f598f AMP-60498 feat: add caret sort icons (always)\n",
      "\t- 1eb4a41285 AMP-60498 feat: dispatch sortByColumn on sort\n",
      "\t- ff95475f9c AMP-60498 fix: remove identifier suffix for normal headers\n",
      "\t- 980ab222a0 AMP-60498 feat: strip icon prefix and add icon in header\n",
      "\t- 1e0cf802a4 AMP-60498 fix, chore: use uniquely identifying field instead of possibly duplicate label for row data; also remove value from header renderer\n",
      "- client/packages/lightning/src/components/BreakdownTable/FunctionColumnHeader/FunctionColumnHeader.tsx\n",
      "\t- 2db09e9f7d chore, doc: edit comments and console logs\n",
      "\t- 0ec84f598f AMP-60498 feat: add caret sort icons (always)\n",
      "\t- 61d530ddcb AMP-60498 fix: stop event propagation; clicking function column won't cause sort\n",
      "\t- 9b643b00dd AMP-60498 AMP-59119 feat: left-align function button in column\n",
      "\t- c311578b17 AMP-60498 AMP-59119 feat: row functions use human readable text\n",
      "- client/packages/lightning/src/components/BreakdownTable/BreakdownTable.tsx\n",
      "\t- 7ae6db52ef AMP-60498 doc: add comment about lazy loading\n",
      "\t- 8f9fbf6259 AMP-60498 feat: add lazy loading\n",
      "\t- 22d34e8027 AMP-60498 feat: column resize works dynamically\n",
      "\t- aceaea8798 AMP-60498 fix: use flex when low column count\n",
      "\t- 889a9e8c1c AMP-60498 fix: update to use nullish checking\n",
      "\t- 5f5678db13 AMP-60498 hack: hack to help when columns don't take up full width\n",
      "\t- a3e006dc86 AMP-60498 feat: set default behaviour to auto size all columns on load\n",
      "\t- d715af7b28 AMP-60498 style: general refactoring\n",
      "\t- 0dae72aac4 AMP-60498 fix: regression where child rows from tree data add blank space\n",
      "\t- 88325958d2 AMP-60498 feat: add dropdown rows for funnels\n",
      "\t- 618243bacf AMP-60498 feat: allow for different maxselected amounts\n",
      "\t- 1eb4a41285 AMP-60498 feat: dispatch sortByColumn on sort\n",
      "\t- f0a90edefe AMP-60498 fix: selection when sorted selects top according to current sort\n",
      "\t- 980ab222a0 AMP-60498 feat: strip icon prefix and add icon in header\n",
      "\t- 1e0cf802a4 AMP-60498 fix, chore: use uniquely identifying field instead of possibly duplicate label for row data; also remove value from header renderer\n",
      "\t- 7860038381 AMP-60498 style: refactor number formatting\n",
      "\t- 8023ccf43f AMP-60498 fix: default to label before value for other chart types with special computed values\n",
      "\t- 7749597626 AMP-60498 feat: format values by round to 2 decimals\n",
      "\t- fe182cff0a AMP-60498 AMP-59119 feat: disable checkboxes when max are selected; possibly slow\n",
      "\t- 1efb3a6d6c AMP-60498 AMP-59119 feat: for <=15 rows use autoHeight\n",
      "\t- e6e8ce1fc9 AMP-60498 AMP-59119 feat: add margin to bottom of table when less than max height\n",
      "\t- 6b0b79841a AMP-60498 AMP-59119 feat: style header more\n",
      "- client/packages/lightning/src/components/BreakdownTable/DefaultCellRenderer/DefaultCellRenderer.tsx\n",
      "\t- 36ee3b4070 AMP-60498 fix: handle data not loaded nullish check\n",
      "\t- 2153101f4a AMP-60498 feat: add text truncation to cells\n",
      "\t- 7749597626 AMP-60498 feat: format values by round to 2 decimals\n",
      "- client/packages/lightning/src/redux/modules/dataset/reducers/definition.ts\n",
      "\t- 60e475690f AMP-60498 fix: Series color becomes the same\n",
      "- client/packages/shared/src/lib/select.ts\n",
      "\t- 889a9e8c1c AMP-60498 fix: update to use nullish checking\n",
      "\t- 980ab222a0 AMP-60498 feat: strip icon prefix and add icon in header\n",
      "- client/packages/lightning/src/components/DataTableChartView/DataTable/SortIcon/SortIcon.tsx\n",
      "\t- 0ec84f598f AMP-60498 feat: add caret sort icons (always)\n",
      "- client/packages/lightning/src/components/BreakdownTable/BreakdownTable.scss\n",
      "\t- 0fd92dcea0 AMP-60498 feat: add divider between header cells\n",
      "\t- 88325958d2 AMP-60498 feat: add dropdown rows for funnels\n",
      "\t- 1efb3a6d6c AMP-60498 AMP-59119 feat: for <=15 rows use autoHeight\n",
      "- client/packages/lightning/src/redux/modules/dataset/selectors.ts\n",
      "\t- 618243bacf AMP-60498 feat: allow for different maxselected amounts\n",
      "- client/packages/lightning/src/components/ChartView/ChartTable/ChartTable.tsx\n",
      "\t- 980ab222a0 AMP-60498 feat: strip icon prefix and add icon in header\n",
      "- client/packages/lightning/src/components/BreakdownTable/breakdown-table.ts\n",
      "\t- 1e0cf802a4 AMP-60498 fix, chore: use uniquely identifying field instead of possibly duplicate label for row data; also remove value from header renderer\n",
      "- client/packages/shared/src/types/table.ts\n",
      "\t- 1e0cf802a4 AMP-60498 fix, chore: use uniquely identifying field instead of possibly duplicate label for row data; also remove value from header renderer\n",
      "- client/packages/cerulean/src/components/bases/DropdownBase.tsx\n",
      "\t- 0020f22f65 AMP-60498 feat: DS change, would also want to pass in case of tooltip\n",
      "\t- 3171877a9a AMP-60498 feat: change DS component to allow access to event\n",
      "- client/packages/shared/src/intl/messages/en-us.ts\n",
      "\t- ffa87c1095 AMP-60498 AMP-59119 feat: indicate max selected message in title\n"
     ]
    }
   ],
   "source": [
    "# printable version\n",
    "\n",
    "\n",
    "\n",
    "\n",
    "for filename, commits in grouped_by_filename.items():\n",
    "    print(f\"- {filename}\")\n",
    "    for commit in commits:\n",
    "        print(f\"\\t- {commit}\")"
   ]
  },
  {
   "cell_type": "code",
   "execution_count": null,
   "metadata": {},
   "outputs": [],
   "source": []
  }
 ],
 "metadata": {
  "kernelspec": {
   "display_name": "Python 3.10.4 64-bit",
   "language": "python",
   "name": "python3"
  },
  "language_info": {
   "codemirror_mode": {
    "name": "ipython",
    "version": 3
   },
   "file_extension": ".py",
   "mimetype": "text/x-python",
   "name": "python",
   "nbconvert_exporter": "python",
   "pygments_lexer": "ipython3",
   "version": "3.10.4"
  },
  "orig_nbformat": 4,
  "vscode": {
   "interpreter": {
    "hash": "aee8b7b246df8f9039afb4144a1f6fd8d2ca17a180786b69acc140d282b71a49"
   }
  }
 },
 "nbformat": 4,
 "nbformat_minor": 2
}
